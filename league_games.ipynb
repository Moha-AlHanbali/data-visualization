{
 "cells": [
  {
   "cell_type": "markdown",
   "metadata": {},
   "source": [
    "# Lab: 14 - Data Visualization\n",
    "## League of Legends S09 Winning Team Stats - Mohammed Al-Hanbali - 27/10/2021"
   ]
  },
  {
   "cell_type": "code",
   "execution_count": null,
   "metadata": {},
   "outputs": [],
   "source": [
    "%matplotlib inline\n",
    "import pandas as pd\n",
    "import seaborn as sns\n"
   ]
  },
  {
   "cell_type": "markdown",
   "metadata": {},
   "source": [
    "### Reading Data"
   ]
  },
  {
   "cell_type": "code",
   "execution_count": null,
   "metadata": {},
   "outputs": [],
   "source": [
    "league_game = pd.read_csv(\"games.csv\")"
   ]
  },
  {
   "cell_type": "markdown",
   "metadata": {},
   "source": [
    "### Data Info"
   ]
  },
  {
   "cell_type": "code",
   "execution_count": null,
   "metadata": {},
   "outputs": [],
   "source": [
    "league_game.info()"
   ]
  },
  {
   "cell_type": "code",
   "execution_count": null,
   "metadata": {},
   "outputs": [],
   "source": [
    "game_data = league_game[[\"gameDuration\", \"winner\",\"firstRiftHerald\", \"firstBaron\", \"firstDragon\", ]]"
   ]
  },
  {
   "cell_type": "markdown",
   "metadata": {},
   "source": [
    "### Data Description"
   ]
  },
  {
   "cell_type": "code",
   "execution_count": null,
   "metadata": {},
   "outputs": [],
   "source": [
    "game_data.describe()"
   ]
  },
  {
   "cell_type": "markdown",
   "metadata": {},
   "source": [
    "### Data Correlations"
   ]
  },
  {
   "cell_type": "code",
   "execution_count": null,
   "metadata": {},
   "outputs": [],
   "source": [
    "game_data.corr()"
   ]
  },
  {
   "cell_type": "markdown",
   "metadata": {},
   "source": [
    "## Winning Teams Stats"
   ]
  },
  {
   "cell_type": "markdown",
   "metadata": {},
   "source": [
    "### Average Game Duration for games won by Red team"
   ]
  },
  {
   "cell_type": "markdown",
   "metadata": {},
   "source": [
    "### Teams winrate"
   ]
  },
  {
   "cell_type": "code",
   "execution_count": null,
   "metadata": {},
   "outputs": [],
   "source": [
    "sns.set()\n",
    "win_rate = sns.countplot(data=game_data, x='winner', palette='RdBu_r').set_xticklabels(labels=[\"blue\", \"red\"])\n"
   ]
  },
  {
   "cell_type": "markdown",
   "metadata": {},
   "source": [
    "### First Dragon for each team"
   ]
  },
  {
   "cell_type": "code",
   "execution_count": null,
   "metadata": {},
   "outputs": [],
   "source": [
    "first_dragon = sns.barplot(data=game_data, x=\"winner\", y=\"firstDragon\", palette='RdBu_r').set_xticklabels(labels=[\"blue\", \"red\"])\n"
   ]
  },
  {
   "cell_type": "markdown",
   "metadata": {},
   "source": [
    "### First Rift Herald for each team"
   ]
  },
  {
   "cell_type": "code",
   "execution_count": null,
   "metadata": {},
   "outputs": [],
   "source": [
    "first_herald = sns.barplot(data=game_data, x=\"winner\", y=\"firstRiftHerald\", palette='RdBu_r').set_xticklabels(labels=[\"blue\", \"red\"])"
   ]
  },
  {
   "cell_type": "markdown",
   "metadata": {},
   "source": [
    "### First Baron for each team"
   ]
  },
  {
   "cell_type": "code",
   "execution_count": null,
   "metadata": {},
   "outputs": [],
   "source": [
    "first_baron = sns.barplot(data=game_data, x=\"winner\", y=\"firstBaron\", palette='RdBu_r').set_xticklabels(labels=[\"blue\", \"red\"])"
   ]
  },
  {
   "cell_type": "markdown",
   "metadata": {},
   "source": [
    "### First Tower for each team"
   ]
  },
  {
   "cell_type": "code",
   "execution_count": null,
   "metadata": {},
   "outputs": [],
   "source": [
    "first_baron = sns.barplot(data=league_game, x=\"winner\", y=\"firstTower\", palette='RdBu_r').set_xticklabels(labels=[\"blue\", \"red\"])"
   ]
  },
  {
   "cell_type": "markdown",
   "metadata": {},
   "source": [
    "### First Inhibitor for each Team"
   ]
  },
  {
   "cell_type": "code",
   "execution_count": null,
   "metadata": {},
   "outputs": [],
   "source": [
    "first_baron = sns.barplot(data=league_game, x=\"winner\", y=\"firstInhibitor\", palette='RdBu_r').set_xticklabels(labels=[\"blue\", \"red\"])"
   ]
  },
  {
   "cell_type": "markdown",
   "metadata": {},
   "source": [
    "### First Blood for each Team"
   ]
  },
  {
   "cell_type": "code",
   "execution_count": null,
   "metadata": {},
   "outputs": [],
   "source": [
    "first_baron = sns.barplot(data=league_game, x=\"winner\", y=\"firstBlood\", palette='RdBu_r').set_xticklabels(labels=[\"blue\", \"red\"])"
   ]
  },
  {
   "cell_type": "code",
   "execution_count": null,
   "metadata": {},
   "outputs": [],
   "source": [
    "first_baron = sns.barplot(data=league_game, x=\"winner\", y=\"gameDuration\", palette='RdBu_r').set_xticklabels(labels=[\"blue\", \"red\"])"
   ]
  },
  {
   "cell_type": "markdown",
   "metadata": {},
   "source": [
    "## Conclusion\n",
    "\n",
    "- Blue Team, although has slightly higher winrate, has undeniable advantages.\n",
    "- Blue Team win condition doesn't necessarily require them to get first dragon, first herald or even first baron, red team yet has to.\n",
    "- This uncovers a big imbalance in perhaps matchmaking or map/gameplay design.\n",
    "- Game duration for won games remain almost identical, which is a bigger indication of the presence of a flow with the rest of the observations.\n",
    "- When a red team wins regardless all the hardships, the game finishes as fast as it would for the privileged blue team. "
   ]
  }
 ],
 "metadata": {
  "interpreter": {
   "hash": "06a4d1d9d51bc6131c986a65a52db76a8d015705f0aeb590d84b52deff7cf151"
  },
  "kernelspec": {
   "display_name": "Python 3.9.5 64-bit ('.venv': poetry)",
   "name": "python3"
  },
  "language_info": {
   "codemirror_mode": {
    "name": "ipython",
    "version": 3
   },
   "file_extension": ".py",
   "mimetype": "text/x-python",
   "name": "python",
   "nbconvert_exporter": "python",
   "pygments_lexer": "ipython3",
   "version": "3.9.5"
  },
  "orig_nbformat": 4
 },
 "nbformat": 4,
 "nbformat_minor": 2
}
