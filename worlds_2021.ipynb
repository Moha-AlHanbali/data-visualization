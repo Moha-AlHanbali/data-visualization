{
 "cells": [
  {
   "cell_type": "markdown",
   "metadata": {},
   "source": [
    "# Lab: 14 - Data Visualization\n",
    "## League of Legends Worlds 2021 Play Ins Team Stats - Mohammed Al-Hanbali - 27/10/2021"
   ]
  },
  {
   "cell_type": "code",
   "execution_count": null,
   "metadata": {},
   "outputs": [],
   "source": [
    "%matplotlib inline\n",
    "import pandas as pd\n",
    "import seaborn as sns\n",
    "sns.set(rc={'figure.figsize':(15,12)})"
   ]
  },
  {
   "cell_type": "markdown",
   "metadata": {},
   "source": [
    "### Reading Data"
   ]
  },
  {
   "cell_type": "code",
   "execution_count": null,
   "metadata": {},
   "outputs": [],
   "source": [
    "worlds_data = pd.read_csv(\"League of Legends 2021 World Championship Play-In Groups Statistics - Raw Data.csv\")\n",
    "worlds_data"
   ]
  },
  {
   "cell_type": "markdown",
   "metadata": {},
   "source": [
    "### Data Description"
   ]
  },
  {
   "cell_type": "code",
   "execution_count": null,
   "metadata": {},
   "outputs": [],
   "source": [
    "worlds_data.describe()"
   ]
  },
  {
   "cell_type": "markdown",
   "metadata": {},
   "source": [
    "### Data Info"
   ]
  },
  {
   "cell_type": "code",
   "execution_count": null,
   "metadata": {},
   "outputs": [],
   "source": [
    "worlds_data.info()"
   ]
  },
  {
   "cell_type": "markdown",
   "metadata": {},
   "source": [
    "### Data Correlations"
   ]
  },
  {
   "cell_type": "code",
   "execution_count": null,
   "metadata": {},
   "outputs": [],
   "source": [
    "worlds_data.corr()"
   ]
  },
  {
   "cell_type": "markdown",
   "metadata": {},
   "source": [
    "### Creep Score to Gold Earned"
   ]
  },
  {
   "cell_type": "code",
   "execution_count": null,
   "metadata": {},
   "outputs": [],
   "source": [
    "creep_gold = sns.barplot(data = worlds_data, x=\"Creep Score\", y=\"Gold Earned\")\n",
    "creep_gold.set_xticklabels(creep_gold.get_xticklabels(), rotation=90, fontsize=6)\n",
    "creep_gold"
   ]
  },
  {
   "cell_type": "markdown",
   "metadata": {},
   "source": [
    "## Champion Bias"
   ]
  },
  {
   "cell_type": "code",
   "execution_count": null,
   "metadata": {},
   "outputs": [],
   "source": [
    "champ_picks = sns.countplot(x=\"Champion\", data = worlds_data)\n",
    "champ_picks.set_xticklabels(champ_picks.get_xticklabels(), rotation=90, fontsize=10)\n",
    "champ_picks.set_title(\"Champion Picks\")"
   ]
  },
  {
   "cell_type": "code",
   "execution_count": null,
   "metadata": {},
   "outputs": [],
   "source": [
    "champ_damage = sns.barplot(x=\"Champion\", y=\"Champion Damage Share\",data = worlds_data)\n",
    "champ_damage.set_xticklabels(champ_damage.get_xticklabels(), rotation=90, fontsize=10)\n",
    "champ_damage.set_title(\"Champion Damage\")"
   ]
  },
  {
   "cell_type": "code",
   "execution_count": null,
   "metadata": {},
   "outputs": [],
   "source": [
    "champ_kda = sns.barplot(x=\"Champion\", y=\"Kill Participation\",data = worlds_data)\n",
    "champ_kda.set_xticklabels(champ_kda.get_xticklabels(), rotation=90, fontsize=10)\n",
    "champ_kda.set_title(\"Champion Kill Participation\")"
   ]
  },
  {
   "cell_type": "code",
   "execution_count": null,
   "metadata": {},
   "outputs": [],
   "source": [
    "champ_kills = sns.barplot(x=\"Champion\", y=\"Kills\",data = worlds_data)\n",
    "champ_kills.set_xticklabels(champ_kills.get_xticklabels(), rotation=90, fontsize=10)\n",
    "champ_kills.set_title(\"Champion Kills\")"
   ]
  },
  {
   "cell_type": "code",
   "execution_count": null,
   "metadata": {},
   "outputs": [],
   "source": [
    "ryze_bias = worlds_data[worlds_data[\"Champion\"] == \"Ryze\"]\n",
    "\n",
    "mf_bias = worlds_data[worlds_data[\"Champion\"] == \"Miss Fortune\"]\n",
    "\n",
    "ezreal_bias = worlds_data[worlds_data[\"Champion\"] == \"Ezreal\"]\n",
    "\n",
    "wukong_bias = worlds_data[worlds_data[\"Champion\"] == \"Wukong\"]\n",
    "\n",
    "zoe_bias = worlds_data[worlds_data[\"Champion\"] == \"Zoe\"]\n",
    "\n",
    "aphelios_bias = worlds_data[worlds_data[\"Champion\"] == \"Aphelios\"]\n"
   ]
  },
  {
   "cell_type": "markdown",
   "metadata": {},
   "source": [
    "### Champion Kill Participation to Damage Share"
   ]
  },
  {
   "cell_type": "code",
   "execution_count": null,
   "metadata": {},
   "outputs": [],
   "source": [
    "sns.pointplot(x=\"Champion Damage Share\", y=\"Kill Participation\",  data = ryze_bias).set_title(\"Ryze Damage to KDA\")"
   ]
  },
  {
   "cell_type": "code",
   "execution_count": null,
   "metadata": {},
   "outputs": [],
   "source": [
    "sns.pointplot(x=\"Champion Damage Share\", y=\"Kill Participation\",  data = mf_bias).set_title(\"MF Damage to KDA\")"
   ]
  },
  {
   "cell_type": "code",
   "execution_count": null,
   "metadata": {},
   "outputs": [],
   "source": [
    "sns.pointplot(x=\"Champion Damage Share\", y=\"Kill Participation\",  data = ezreal_bias).set_title(\"Ezreal Damage to KDA\")"
   ]
  },
  {
   "cell_type": "code",
   "execution_count": null,
   "metadata": {},
   "outputs": [],
   "source": [
    "sns.pointplot(x=\"Champion Damage Share\", y=\"Kill Participation\",  data = wukong_bias).set_title(\"Wukong Damage to KDA\")"
   ]
  },
  {
   "cell_type": "code",
   "execution_count": null,
   "metadata": {},
   "outputs": [],
   "source": [
    "sns.pointplot(x=\"Champion Damage Share\", y=\"Kill Participation\",  data = zoe_bias).set_title(\"Zoe Damage to KDA\")"
   ]
  },
  {
   "cell_type": "code",
   "execution_count": null,
   "metadata": {},
   "outputs": [],
   "source": [
    "sns.pointplot(x=\"Champion Damage Share\", y=\"Kill Participation\",  data = aphelios_bias).set_title(\"Aphelios Damage to KDA\")"
   ]
  },
  {
   "cell_type": "markdown",
   "metadata": {},
   "source": [
    "### Role to Damage Share"
   ]
  },
  {
   "cell_type": "code",
   "execution_count": null,
   "metadata": {},
   "outputs": [],
   "source": [
    "adc_bias = worlds_data[worlds_data[\"Position\"] == \"Adc\"]\n",
    "\n",
    "support_bias = worlds_data[worlds_data[\"Position\"] == \"Support\"]\n",
    "\n",
    "jungle_bias = worlds_data[worlds_data[\"Position\"] == \"Jungle\"]\n",
    "\n",
    "mid_bias = worlds_data[worlds_data[\"Position\"] == \"Mid\"]\n",
    "\n",
    "top_bias = worlds_data[worlds_data[\"Position\"] == \"Top\"]"
   ]
  },
  {
   "cell_type": "code",
   "execution_count": null,
   "metadata": {},
   "outputs": [],
   "source": [
    "sns.pointplot(x=\"Champion Damage Share\", y=\"Kill Participation\",  data = adc_bias).set_title(\"ADC Damage to KDA\")"
   ]
  },
  {
   "cell_type": "code",
   "execution_count": null,
   "metadata": {},
   "outputs": [],
   "source": [
    "sns.pointplot(x=\"Champion Damage Share\", y=\"Kill Participation\",  data = support_bias).set_title(\"Support Damage to KDA\")"
   ]
  },
  {
   "cell_type": "code",
   "execution_count": null,
   "metadata": {},
   "outputs": [],
   "source": [
    "sns.pointplot(x=\"Champion Damage Share\", y=\"Kill Participation\",  data = jungle_bias).set_title(\"Jungle Damage to KDA\")"
   ]
  },
  {
   "cell_type": "code",
   "execution_count": null,
   "metadata": {},
   "outputs": [],
   "source": [
    "sns.pointplot(x=\"Champion Damage Share\", y=\"Kill Participation\",  data = mid_bias).set_title(\"Mid Damage to KDA\")"
   ]
  },
  {
   "cell_type": "code",
   "execution_count": null,
   "metadata": {},
   "outputs": [],
   "source": [
    "sns.pointplot(x=\"Champion Damage Share\", y=\"Kill Participation\",  data = top_bias).set_title(\"Top Damage to KDA\")"
   ]
  },
  {
   "cell_type": "markdown",
   "metadata": {},
   "source": [
    "### Teams Stats"
   ]
  },
  {
   "cell_type": "code",
   "execution_count": null,
   "metadata": {},
   "outputs": [],
   "source": [
    "player_kills = sns.barplot(x=\"Player\", y=\"Kills\",  data = worlds_data)\n",
    "player_kills.set_xticklabels(player_kills.get_xticklabels(), rotation=90, fontsize=10)\n",
    "player_kills.set_title(\"Player Kills\")"
   ]
  },
  {
   "cell_type": "code",
   "execution_count": null,
   "metadata": {},
   "outputs": [],
   "source": [
    "team_kda = sns.barplot(x=\"Team\", y=\"Kill Participation\",  data = worlds_data)\n",
    "team_kda.set_xticklabels(team_kda.get_xticklabels(), rotation=90, fontsize=10)\n",
    "team_kda.set_title(\"Teams Kill Participation\")"
   ]
  },
  {
   "cell_type": "code",
   "execution_count": null,
   "metadata": {},
   "outputs": [],
   "source": [
    "team_kills = sns.barplot(x=\"Team\", y=\"Kills\",  data = worlds_data)\n",
    "team_kills.set_xticklabels(team_kills.get_xticklabels(), rotation=90, fontsize=10)\n",
    "team_kills.set_title(\"Teams Kills\")"
   ]
  },
  {
   "cell_type": "markdown",
   "metadata": {},
   "source": [
    "## Conclusion:\n",
    "- Champions with higher pick rates are not the champions necessarily dealing the most damage.\n",
    "- Carrying Roles (ADC/JG/TOP) have increased kda in relation to the other two roles.\n",
    "- Supporting Roles deal more damage when they join in team fights.\n",
    "- Teams with more kills are not necessarily the winning teams.\n",
    "- Higher pick rate champs usually have more damage shares (team fight oriented champs)."
   ]
  }
 ],
 "metadata": {
  "interpreter": {
   "hash": "06a4d1d9d51bc6131c986a65a52db76a8d015705f0aeb590d84b52deff7cf151"
  },
  "kernelspec": {
   "display_name": "Python 3.9.5 64-bit ('.venv': poetry)",
   "name": "python3"
  },
  "language_info": {
   "codemirror_mode": {
    "name": "ipython",
    "version": 3
   },
   "file_extension": ".py",
   "mimetype": "text/x-python",
   "name": "python",
   "nbconvert_exporter": "python",
   "pygments_lexer": "ipython3",
   "version": "3.9.5"
  },
  "orig_nbformat": 4
 },
 "nbformat": 4,
 "nbformat_minor": 2
}
